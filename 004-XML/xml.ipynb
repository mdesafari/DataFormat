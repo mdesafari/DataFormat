{
 "cells": [
  {
   "cell_type": "markdown",
   "metadata": {},
   "source": [
    "# **XML (e`X`tensible `M`arkup `L`anguage) format**\n",
    "\n",
    "**Source**: `geeksforgeeks`\n",
    "\n",
    "Extensible Markup Language, commonly known as XML is a language designed specifically to be easy to interpret by both humans and computers altogether. The language defines a set of rules used to encode a document in a specific format."
   ]
  },
  {
   "cell_type": "markdown",
   "metadata": {},
   "source": [
    "## **XML Parsing**\n",
    "\n",
    "In general, the process of reading the data from an XML file and analyzing its logical components is known as Parsing. Therefore, when we refer to reading a xml file we are referring to parsing the XML document. "
   ]
  },
  {
   "cell_type": "markdown",
   "metadata": {},
   "source": [
    "## **Tools we will use**\n",
    "\n",
    "We will use the library below for the purpose of xml parsing.\n",
    "\n",
    "* **BeautifulSoup** used alongside the lxml parser\n",
    "\n",
    "For the purpose of reading and writing the xml file we would be using a Python library named BeautifulSoup.\n",
    "\n",
    "Beautiful Soup supports the HTML parser included in Python’s standard library, but it also supports a number of third-party Python parsers. One is the lxml parser (used for parsing XML/HTML documents).\n",
    "\n"
   ]
  },
  {
   "cell_type": "markdown",
   "metadata": {},
   "source": [
    "## **Install the libraries**"
   ]
  },
  {
   "cell_type": "code",
   "execution_count": null,
   "metadata": {},
   "outputs": [],
   "source": [
    "%pip install beautifulsoup4\n",
    "%pip install lxml"
   ]
  },
  {
   "cell_type": "markdown",
   "metadata": {},
   "source": [
    "# **Reading Data From an XML File**\n",
    "\n",
    "There are two steps required to parse a xml file:\n",
    "\n",
    "* Finding Tags \n",
    "* Extracting from tags\n",
    "\n",
    "`XML File used: (the file is in this folder and named: xml_content.xml)`\n",
    "\n",
    "<img src=\"./images/xml_content.png\" width=\"400px\" style=\"border: 5px solid #555\" />"
   ]
  },
  {
   "cell_type": "code",
   "execution_count": 6,
   "metadata": {},
   "outputs": [
    {
     "name": "stdout",
     "output_type": "stream",
     "text": [
      "[<unique> \n",
      "    Add a video URL in here \n",
      "    </unique>, <unique> \n",
      "    Add a workbook URL here \n",
      "    </unique>]\n",
      "<child name=\"Frank\" test=\"0\"> \n",
      "    FRANK likes EVERYONE \n",
      "    </child>\n",
      "0\n"
     ]
    }
   ],
   "source": [
    "from bs4 import BeautifulSoup\n",
    " \n",
    " \n",
    "# Reading the data inside the xml\n",
    "# file to a variable under the name \n",
    "# data\n",
    "with open('xml_content.xml', 'r') as f:\n",
    "    data = f.read()\n",
    " \n",
    "# Passing the stored data inside\n",
    "# the beautifulsoup parser, storing\n",
    "# the returned object \n",
    "Bs_data = BeautifulSoup(data, \"xml\")\n",
    " \n",
    "# Finding all instances of tag \n",
    "# `unique`\n",
    "b_unique = Bs_data.find_all('unique')\n",
    " \n",
    "print(b_unique)\n",
    " \n",
    "# Using find() to extract attributes \n",
    "# of the first instance of the tag\n",
    "b_name = Bs_data.find('child', {'name':'Frank'})\n",
    "\n",
    "print(b_name)\n",
    " \n",
    "# Extracting the data stored in a\n",
    "# specific attribute of the \n",
    "# `child` tag\n",
    "value = b_name.get('test')\n",
    " \n",
    "print(value)"
   ]
  },
  {
   "cell_type": "markdown",
   "metadata": {},
   "source": [
    "# **Writing an XML File**\n",
    "\n",
    "Writing a xml file is a primitive process, reason for that being the fact that xml files aren’t encoded in a special way. Modifying sections of a xml document requires one to parse through it at first. In the below code we would modify some sections of the aforementioned xml document.\n"
   ]
  },
  {
   "cell_type": "code",
   "execution_count": 7,
   "metadata": {},
   "outputs": [
    {
     "name": "stdout",
     "output_type": "stream",
     "text": [
      "<?xml version=\"1.0\" encoding=\"utf-8\"?>\n",
      "<saranghe>\n",
      " <child name=\"Frank\" test=\"WHAT !!\">\n",
      "  FRANK likes EVERYONE\n",
      " </child>\n",
      " <unique>\n",
      "  Add a video URL in here\n",
      " </unique>\n",
      " <child name=\"Texas\">\n",
      "  TEXAS is a PLACE\n",
      " </child>\n",
      " <child name=\"Frank\" test=\"WHAT !!\">\n",
      "  Exclusively\n",
      " </child>\n",
      " <unique>\n",
      "  Add a workbook URL here\n",
      " </unique>\n",
      " <data>\n",
      "  Add the content of your article here\n",
      "  <family>\n",
      "   Add the font family of your text here\n",
      "  </family>\n",
      "  <size>\n",
      "   Add the font size of your text here\n",
      "  </size>\n",
      " </data>\n",
      "</saranghe>\n",
      "\n"
     ]
    }
   ],
   "source": [
    "from bs4 import BeautifulSoup\n",
    " \n",
    "# Reading data from the xml file\n",
    "with open('xml_content.xml', 'r') as f:\n",
    "    data = f.read()\n",
    " \n",
    "# Passing the data of the xml\n",
    "# file to the xml parser of\n",
    "# beautifulsoup\n",
    "bs_data = BeautifulSoup(data, 'xml')\n",
    " \n",
    "# A loop for replacing the value\n",
    "# of attribute `test` to WHAT !!\n",
    "# The tag is found by the clause\n",
    "# `bs_data.find_all('child', {'name':'Frank'})`\n",
    "for tag in bs_data.find_all('child', {'name':'Frank'}):\n",
    "    tag['test'] = \"WHAT !!\"\n",
    " \n",
    " \n",
    "# Output the contents of the \n",
    "# modified xml file\n",
    "print(bs_data.prettify())"
   ]
  }
 ],
 "metadata": {
  "kernelspec": {
   "display_name": "Python 3",
   "language": "python",
   "name": "python3"
  },
  "language_info": {
   "codemirror_mode": {
    "name": "ipython",
    "version": 3
   },
   "file_extension": ".py",
   "mimetype": "text/x-python",
   "name": "python",
   "nbconvert_exporter": "python",
   "pygments_lexer": "ipython3",
   "version": "3.12.1"
  }
 },
 "nbformat": 4,
 "nbformat_minor": 2
}
