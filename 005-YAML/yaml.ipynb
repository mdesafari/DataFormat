{
 "cells": [
  {
   "cell_type": "markdown",
   "metadata": {},
   "source": [
    "# **YAML (`Y`et `A`nother `M`Markup `L`anguage) or (`Y`AML `A`in't `M`arkup `L`anguage) format**\n",
    "\n",
    "YAML is a lightweight data serialization format that is commonly used for configuration files and data exchange between applications. In Python, YAML can be used to parse and generate YAML-formatted data."
   ]
  },
  {
   "cell_type": "markdown",
   "metadata": {},
   "source": [
    "## **YAML Parsing**\n",
    "\n",
    "Python provides a module called yaml that allows you to work with YAML files."
   ]
  },
  {
   "cell_type": "markdown",
   "metadata": {},
   "source": [
    "## **Install the libraries**"
   ]
  },
  {
   "cell_type": "code",
   "execution_count": null,
   "metadata": {},
   "outputs": [],
   "source": [
    "%pip install pyyaml"
   ]
  },
  {
   "cell_type": "markdown",
   "metadata": {},
   "source": [
    "# **Read Data From a YAML File**\n",
    "\n",
    "`The content of our yaml file is in this folder (name: yaml_content.yaml)`. It is also displayed below\n",
    "\n",
    "<img src=\"./images/yaml_content.png\" width=\"300px\" style=\"border: 5px solid #555\" />\n",
    "\n",
    "In this example, the YAML file contains key-value pairs represented by name, age, and city, storing information about a person. Additionally, there is a list of interests under the key interests. This YAML structure represents a simple data structure with nested values.\n",
    "\n",
    "When you load this YAML file using the yaml.load() function in Python, it will return a corresponding Python dictionary object with the same key-value structure."
   ]
  },
  {
   "cell_type": "code",
   "execution_count": 9,
   "metadata": {},
   "outputs": [],
   "source": [
    "# import the yaml module\n",
    "import yaml\n",
    "\n",
    "# load data from a YAML file\n",
    "with open('yaml_content.yaml', 'r') as file:\n",
    "    # yaml.FullLoader => load YAML-formatted data with full functionality and safety\n",
    "    data = yaml.load(file, Loader=yaml.FullLoader)\n"
   ]
  },
  {
   "cell_type": "markdown",
   "metadata": {},
   "source": [
    "# **Convert a Python dictionary to a YAML format**"
   ]
  },
  {
   "cell_type": "markdown",
   "metadata": {},
   "source": [
    "## Example 1: simple"
   ]
  },
  {
   "cell_type": "code",
   "execution_count": 10,
   "metadata": {},
   "outputs": [],
   "source": [
    "# dump data to a YAML file (from Python dictionary to yaml)\n",
    "data = {'name': 'Naruto', 'age': 30}\n",
    "\n",
    "with open('simple_content.yaml', 'w') as file:\n",
    "    yaml.dump(data, file)"
   ]
  },
  {
   "cell_type": "markdown",
   "metadata": {},
   "source": [
    "**Output:**\n",
    "\n",
    "<img src=\"./images/simple_content.png\" width=\"300px\" style=\"border: 5px solid #555\" />"
   ]
  },
  {
   "cell_type": "markdown",
   "metadata": {},
   "source": [
    "## Example 2: a little complex"
   ]
  },
  {
   "cell_type": "code",
   "execution_count": 11,
   "metadata": {},
   "outputs": [],
   "source": [
    "# dump data to a YAML file (from Python dictionary to yaml)\n",
    "data = {\n",
    "    'name': 'John',\n",
    "    'age': 30,\n",
    "    'city': 'New York',\n",
    "    'interests': ['Reading', 'Traveling', 'Cooking']\n",
    "}\n",
    "\n",
    "with open('little_complex_content.yaml', 'w') as file:\n",
    "    yaml.dump(data, file)"
   ]
  },
  {
   "cell_type": "markdown",
   "metadata": {},
   "source": [
    "**Output:**\n",
    "\n",
    "<img src=\"./images/little_complex_content.png\" width=\"300px\" style=\"border: 5px solid #555\" />"
   ]
  }
 ],
 "metadata": {
  "kernelspec": {
   "display_name": "Python 3",
   "language": "python",
   "name": "python3"
  },
  "language_info": {
   "codemirror_mode": {
    "name": "ipython",
    "version": 3
   },
   "file_extension": ".py",
   "mimetype": "text/x-python",
   "name": "python",
   "nbconvert_exporter": "python",
   "pygments_lexer": "ipython3",
   "version": "3.12.1"
  }
 },
 "nbformat": 4,
 "nbformat_minor": 2
}
