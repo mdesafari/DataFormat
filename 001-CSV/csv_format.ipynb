{
 "cells": [
  {
   "cell_type": "markdown",
   "metadata": {},
   "source": [
    "# **Comma-Separated Values (CSV)**\n",
    "\n",
    "* **Characteristics**: CSV files store tabular data where each line represents a row, and the values are separated by commas. They are plain text files and can be easily read and written by many programming languages and tools.\n",
    "\n",
    "* **Use Cases**: CSV files are commonly used for data interchange between different applications, importing/exporting data from spreadsheets, and simple data analysis tasks.\n",
    "\n",
    "<img src=\"./images/csv.png\" width=\"500px\"/>"
   ]
  },
  {
   "cell_type": "code",
   "execution_count": null,
   "metadata": {},
   "outputs": [],
   "source": [
    "# install pandas (library we will use to read and manipulate csv through DataFrame)\n",
    "%pip install pandas"
   ]
  },
  {
   "cell_type": "code",
   "execution_count": 2,
   "metadata": {},
   "outputs": [
    {
     "name": "stdout",
     "output_type": "stream",
     "text": [
      "CSV file:\n",
      "       id          name      country\n",
      "0       1      Photobug        China\n",
      "1       2         Yamia  Philippines\n",
      "2       3         Mydeo      Bahrain\n",
      "3       4        Roodel       Russia\n",
      "4       5         Fadeo      Tunisia\n",
      "..    ...           ...          ...\n",
      "995   996         Yadel        China\n",
      "996   997          Katz    Indonesia\n",
      "997   998  Dazzlesphere        China\n",
      "998   999          Izio       Brazil\n",
      "999  1000       Youfeed    Indonesia\n",
      "\n",
      "[1000 rows x 3 columns]\n"
     ]
    }
   ],
   "source": [
    "# import pandas\n",
    "import pandas as pd\n",
    "\n",
    "# read companies.csv\n",
    "df = pd.read_csv('companies.csv', sep=',')\n",
    "\n",
    "# print\n",
    "print(f'CSV file:\\n{df}')"
   ]
  }
 ],
 "metadata": {
  "kernelspec": {
   "display_name": "Python 3",
   "language": "python",
   "name": "python3"
  },
  "language_info": {
   "codemirror_mode": {
    "name": "ipython",
    "version": 3
   },
   "file_extension": ".py",
   "mimetype": "text/x-python",
   "name": "python",
   "nbconvert_exporter": "python",
   "pygments_lexer": "ipython3",
   "version": "3.12.1"
  }
 },
 "nbformat": 4,
 "nbformat_minor": 2
}
